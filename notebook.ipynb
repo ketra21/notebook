{
 "cells": [
  {
   "cell_type": "markdown",
   "metadata": {},
   "source": [
    "### 最佳教程\n",
    "学习正则表达式最清晰的教程\n",
    "\n",
    "[https://github.com/ziishaned/learn-regex/blob/master/translations/README-cn.md](https://github.com/ziishaned/learn-regex/blob/master/translations/README-cn.md)\n",
    "\n",
    "### 在线编写/验证正则表达式\n",
    "通过编写表达式，对测试文本进行可视化检验，并且也可以查看对正则的逻辑解释，网址右下方也有常用表达式的参考\n",
    "\n",
    "[https://regex101.com/r/5ljjgB/1](https://regex101.com/r/5ljjgB/1)(可以设置中文语言)\n",
    "\n",
    "### 在线编写SQL语句\n",
    "为了在PGSQL实现一些正则的替换，提取等，本地没有数据库，可以通过在线的形式进行编写:\n",
    "[https://rextester.com/l/postgresql_online_compiler](https://rextester.com/l/postgresql_online_compiler)\n",
    "\n",
    "提取一堆字符中的第一个数字（可含小数点）\n",
    "\n",
    "\n",
    "select regexp_matches('2019-01-24','(?<!(((19|20|21)[0-9]{2})-(0[1-9]|1[012])-(0[1-9]|[12][0-9]|3[01])))[0-9]+\\.?[0-9]*') as f1 \n",
    "\n",
    "### 学习参考\n",
    "- [PostgreSQL 正则表达式替换-使用变量](https://blog.csdn.net/kmblack1/article/details/79064420)"
   ]
  }
 ],
 "metadata": {
  "kernelspec": {
   "display_name": "Python 3",
   "language": "python",
   "name": "python3"
  },
  "language_info": {
   "codemirror_mode": {
    "name": "ipython",
    "version": 3
   },
   "file_extension": ".py",
   "mimetype": "text/x-python",
   "name": "python",
   "nbconvert_exporter": "python",
   "pygments_lexer": "ipython3",
   "version": "3.6.6"
  }
 },
 "nbformat": 4,
 "nbformat_minor": 2
}
